{
  "cells": [
    {
      "cell_type": "markdown",
      "metadata": {
        "id": "view-in-github",
        "colab_type": "text"
      },
      "source": [
        "<a href=\"https://colab.research.google.com/github/zxc741xb/Association-rules/blob/main/311112018_Assignment2.ipynb\" target=\"_parent\"><img src=\"https://colab.research.google.com/assets/colab-badge.svg\" alt=\"Open In Colab\"/></a>"
      ]
    },
    {
      "cell_type": "code",
      "execution_count": null,
      "id": "2d950604-b15d-4500-a748-8ee5a6c123ef",
      "metadata": {
        "tags": [],
        "id": "2d950604-b15d-4500-a748-8ee5a6c123ef"
      },
      "outputs": [],
      "source": [
        "import pandas as pd\n",
        "import numpy as np\n",
        "from mlxtend.frequent_patterns import apriori, association_rules\n",
        "import matplotlib.pyplot as plt\n",
        "from sklearn.preprocessing import OneHotEncoder"
      ]
    },
    {
      "cell_type": "code",
      "execution_count": null,
      "id": "6ce92735-94c2-4097-a816-3fd2baabf405",
      "metadata": {
        "tags": [],
        "id": "6ce92735-94c2-4097-a816-3fd2baabf405",
        "outputId": "45e4e2af-fee2-44cf-d2c4-43431759faf4"
      },
      "outputs": [
        {
          "name": "stdout",
          "output_type": "stream",
          "text": [
            "                           items\n",
            "0             MILK,BREAD,BISCUIT\n",
            "1  BREAD,MILK,BISCUIT,CORNFLAKES\n",
            "2            BREAD,TEA,BOURNVITA\n",
            "3           JAM,MAGGI,BREAD,MILK\n",
            "4              MAGGI,TEA,BISCUIT\n",
            "5            BREAD,TEA,BOURNVITA\n",
            "6           MAGGI,TEA,CORNFLAKES\n",
            "7        MAGGI,BREAD,TEA,BISCUIT\n",
            "8            JAM,MAGGI,BREAD,TEA\n",
            "9                     BREAD,MILK\n"
          ]
        }
      ],
      "source": [
        "# read dataset\n",
        "df = pd.read_csv('GroceryStoreDataSet.csv',names=['items'], header=None)\n",
        "print(df.head(10))"
      ]
    },
    {
      "cell_type": "code",
      "execution_count": null,
      "id": "f1f2adea-c84b-4001-909b-e7469ed0523d",
      "metadata": {
        "tags": [],
        "id": "f1f2adea-c84b-4001-909b-e7469ed0523d"
      },
      "outputs": [],
      "source": [
        "df = list(df['items'].apply(lambda x:x.split(',')))"
      ]
    },
    {
      "cell_type": "code",
      "execution_count": null,
      "id": "a45ab02f-bcd2-4661-942a-8db7f65b835a",
      "metadata": {
        "tags": [],
        "id": "a45ab02f-bcd2-4661-942a-8db7f65b835a",
        "outputId": "41107bdb-2f81-4d8a-b1e3-84c2c55a55e9"
      },
      "outputs": [
        {
          "data": {
            "text/html": [
              "<div>\n",
              "<style scoped>\n",
              "    .dataframe tbody tr th:only-of-type {\n",
              "        vertical-align: middle;\n",
              "    }\n",
              "\n",
              "    .dataframe tbody tr th {\n",
              "        vertical-align: top;\n",
              "    }\n",
              "\n",
              "    .dataframe thead th {\n",
              "        text-align: right;\n",
              "    }\n",
              "</style>\n",
              "<table border=\"1\" class=\"dataframe\">\n",
              "  <thead>\n",
              "    <tr style=\"text-align: right;\">\n",
              "      <th></th>\n",
              "      <th>0</th>\n",
              "      <th>1</th>\n",
              "      <th>2</th>\n",
              "      <th>3</th>\n",
              "    </tr>\n",
              "  </thead>\n",
              "  <tbody>\n",
              "    <tr>\n",
              "      <th>0</th>\n",
              "      <td>MILK</td>\n",
              "      <td>BREAD</td>\n",
              "      <td>BISCUIT</td>\n",
              "      <td>None</td>\n",
              "    </tr>\n",
              "    <tr>\n",
              "      <th>1</th>\n",
              "      <td>BREAD</td>\n",
              "      <td>MILK</td>\n",
              "      <td>BISCUIT</td>\n",
              "      <td>CORNFLAKES</td>\n",
              "    </tr>\n",
              "    <tr>\n",
              "      <th>2</th>\n",
              "      <td>BREAD</td>\n",
              "      <td>TEA</td>\n",
              "      <td>BOURNVITA</td>\n",
              "      <td>None</td>\n",
              "    </tr>\n",
              "    <tr>\n",
              "      <th>3</th>\n",
              "      <td>JAM</td>\n",
              "      <td>MAGGI</td>\n",
              "      <td>BREAD</td>\n",
              "      <td>MILK</td>\n",
              "    </tr>\n",
              "    <tr>\n",
              "      <th>4</th>\n",
              "      <td>MAGGI</td>\n",
              "      <td>TEA</td>\n",
              "      <td>BISCUIT</td>\n",
              "      <td>None</td>\n",
              "    </tr>\n",
              "    <tr>\n",
              "      <th>5</th>\n",
              "      <td>BREAD</td>\n",
              "      <td>TEA</td>\n",
              "      <td>BOURNVITA</td>\n",
              "      <td>None</td>\n",
              "    </tr>\n",
              "    <tr>\n",
              "      <th>6</th>\n",
              "      <td>MAGGI</td>\n",
              "      <td>TEA</td>\n",
              "      <td>CORNFLAKES</td>\n",
              "      <td>None</td>\n",
              "    </tr>\n",
              "    <tr>\n",
              "      <th>7</th>\n",
              "      <td>MAGGI</td>\n",
              "      <td>BREAD</td>\n",
              "      <td>TEA</td>\n",
              "      <td>BISCUIT</td>\n",
              "    </tr>\n",
              "    <tr>\n",
              "      <th>8</th>\n",
              "      <td>JAM</td>\n",
              "      <td>MAGGI</td>\n",
              "      <td>BREAD</td>\n",
              "      <td>TEA</td>\n",
              "    </tr>\n",
              "    <tr>\n",
              "      <th>9</th>\n",
              "      <td>BREAD</td>\n",
              "      <td>MILK</td>\n",
              "      <td>None</td>\n",
              "      <td>None</td>\n",
              "    </tr>\n",
              "    <tr>\n",
              "      <th>10</th>\n",
              "      <td>COFFEE</td>\n",
              "      <td>COCK</td>\n",
              "      <td>BISCUIT</td>\n",
              "      <td>CORNFLAKES</td>\n",
              "    </tr>\n",
              "    <tr>\n",
              "      <th>11</th>\n",
              "      <td>COFFEE</td>\n",
              "      <td>COCK</td>\n",
              "      <td>BISCUIT</td>\n",
              "      <td>CORNFLAKES</td>\n",
              "    </tr>\n",
              "    <tr>\n",
              "      <th>12</th>\n",
              "      <td>COFFEE</td>\n",
              "      <td>SUGER</td>\n",
              "      <td>BOURNVITA</td>\n",
              "      <td>None</td>\n",
              "    </tr>\n",
              "    <tr>\n",
              "      <th>13</th>\n",
              "      <td>BREAD</td>\n",
              "      <td>COFFEE</td>\n",
              "      <td>COCK</td>\n",
              "      <td>None</td>\n",
              "    </tr>\n",
              "    <tr>\n",
              "      <th>14</th>\n",
              "      <td>BREAD</td>\n",
              "      <td>SUGER</td>\n",
              "      <td>BISCUIT</td>\n",
              "      <td>None</td>\n",
              "    </tr>\n",
              "    <tr>\n",
              "      <th>15</th>\n",
              "      <td>COFFEE</td>\n",
              "      <td>SUGER</td>\n",
              "      <td>CORNFLAKES</td>\n",
              "      <td>None</td>\n",
              "    </tr>\n",
              "    <tr>\n",
              "      <th>16</th>\n",
              "      <td>BREAD</td>\n",
              "      <td>SUGER</td>\n",
              "      <td>BOURNVITA</td>\n",
              "      <td>None</td>\n",
              "    </tr>\n",
              "    <tr>\n",
              "      <th>17</th>\n",
              "      <td>BREAD</td>\n",
              "      <td>COFFEE</td>\n",
              "      <td>SUGER</td>\n",
              "      <td>None</td>\n",
              "    </tr>\n",
              "    <tr>\n",
              "      <th>18</th>\n",
              "      <td>BREAD</td>\n",
              "      <td>COFFEE</td>\n",
              "      <td>SUGER</td>\n",
              "      <td>None</td>\n",
              "    </tr>\n",
              "    <tr>\n",
              "      <th>19</th>\n",
              "      <td>TEA</td>\n",
              "      <td>MILK</td>\n",
              "      <td>COFFEE</td>\n",
              "      <td>CORNFLAKES</td>\n",
              "    </tr>\n",
              "  </tbody>\n",
              "</table>\n",
              "</div>"
            ],
            "text/plain": [
              "         0       1           2           3\n",
              "0     MILK   BREAD     BISCUIT        None\n",
              "1    BREAD    MILK     BISCUIT  CORNFLAKES\n",
              "2    BREAD     TEA   BOURNVITA        None\n",
              "3      JAM   MAGGI       BREAD        MILK\n",
              "4    MAGGI     TEA     BISCUIT        None\n",
              "5    BREAD     TEA   BOURNVITA        None\n",
              "6    MAGGI     TEA  CORNFLAKES        None\n",
              "7    MAGGI   BREAD         TEA     BISCUIT\n",
              "8      JAM   MAGGI       BREAD         TEA\n",
              "9    BREAD    MILK        None        None\n",
              "10  COFFEE    COCK     BISCUIT  CORNFLAKES\n",
              "11  COFFEE    COCK     BISCUIT  CORNFLAKES\n",
              "12  COFFEE   SUGER   BOURNVITA        None\n",
              "13   BREAD  COFFEE        COCK        None\n",
              "14   BREAD   SUGER     BISCUIT        None\n",
              "15  COFFEE   SUGER  CORNFLAKES        None\n",
              "16   BREAD   SUGER   BOURNVITA        None\n",
              "17   BREAD  COFFEE       SUGER        None\n",
              "18   BREAD  COFFEE       SUGER        None\n",
              "19     TEA    MILK      COFFEE  CORNFLAKES"
            ]
          },
          "execution_count": 24,
          "metadata": {},
          "output_type": "execute_result"
        }
      ],
      "source": [
        "df = pd.DataFrame(df)\n",
        "df"
      ]
    },
    {
      "cell_type": "code",
      "execution_count": null,
      "id": "4f951655-5d90-445e-825b-281c9aef4617",
      "metadata": {
        "tags": [],
        "id": "4f951655-5d90-445e-825b-281c9aef4617",
        "outputId": "0c72bc8d-e3d3-4172-9324-72785e4f8f4a"
      },
      "outputs": [
        {
          "name": "stdout",
          "output_type": "stream",
          "text": [
            "{'COFFEE', 'SUGER', None, 'TEA', 'BISCUIT', 'COCK', 'BOURNVITA', 'CORNFLAKES', 'JAM', 'BREAD', 'MILK', 'MAGGI'}\n"
          ]
        }
      ],
      "source": [
        "# items in transaction\n",
        "items = set()\n",
        "for col in df:\n",
        "    items.update(df[col].unique())\n",
        "print(items)"
      ]
    },
    {
      "cell_type": "code",
      "execution_count": null,
      "id": "831fdf5f-6010-4e5a-a5f5-609031e3476d",
      "metadata": {
        "tags": [],
        "id": "831fdf5f-6010-4e5a-a5f5-609031e3476d",
        "outputId": "6a358a7a-5785-485f-c588-22a43978fd36"
      },
      "outputs": [
        {
          "name": "stdout",
          "output_type": "stream",
          "text": [
            "{'COFFEE', 'SUGER', 'TEA', 'BISCUIT', 'COCK', 'BOURNVITA', 'CORNFLAKES', 'JAM', 'BREAD', 'MILK', 'MAGGI'}\n"
          ]
        }
      ],
      "source": [
        "# remove None values\n",
        "items = set()\n",
        "for col in df:\n",
        "    items.update(df[col].dropna().unique())\n",
        "print(items)"
      ]
    },
    {
      "cell_type": "code",
      "execution_count": null,
      "id": "e3f5dd81-b5da-4d9f-987c-db474997e50c",
      "metadata": {
        "tags": [],
        "id": "e3f5dd81-b5da-4d9f-987c-db474997e50c",
        "outputId": "d5c3b628-0602-49b1-d24c-88787d540ab8"
      },
      "outputs": [
        {
          "name": "stdout",
          "output_type": "stream",
          "text": [
            "   COFFEE  SUGER  TEA  COCK  BOURNVITA  CORNFLAKES  JAM  MAGGI  MILK  BISCUIT  \\\n",
            "0       0      0    0     0          0           0    0      0     1        1   \n",
            "1       0      0    0     0          0           1    0      0     1        1   \n",
            "2       0      0    1     0          1           0    0      0     0        0   \n",
            "3       0      0    0     0          0           0    1      1     1        0   \n",
            "4       0      0    1     0          0           0    0      1     0        1   \n",
            "5       0      0    1     0          1           0    0      0     0        0   \n",
            "6       0      0    1     0          0           1    0      1     0        0   \n",
            "7       0      0    1     0          0           0    0      1     0        1   \n",
            "8       0      0    1     0          0           0    1      1     0        0   \n",
            "9       0      0    0     0          0           0    0      0     1        0   \n",
            "\n",
            "   BREAD  \n",
            "0      1  \n",
            "1      1  \n",
            "2      1  \n",
            "3      1  \n",
            "4      0  \n",
            "5      1  \n",
            "6      0  \n",
            "7      1  \n",
            "8      1  \n",
            "9      1  \n"
          ]
        }
      ],
      "source": [
        "# one hot encoding\n",
        "itemset = set(items)\n",
        "encoded_vals = []\n",
        "for index, row in df.iterrows():\n",
        "    rowset = set(row) \n",
        "    labels = {}\n",
        "    uncommons = list(itemset - rowset) # 沒有包含的\n",
        "    commons = list(itemset.intersection(rowset)) # 有包含的\n",
        "    for uc in uncommons:\n",
        "        labels[uc] = 0\n",
        "    for com in commons:\n",
        "        labels[com] = 1\n",
        "    encoded_vals.append(labels)\n",
        "ohe_df = pd.DataFrame(encoded_vals)\n",
        "print(ohe_df.head(10))"
      ]
    },
    {
      "cell_type": "code",
      "execution_count": null,
      "id": "a1bbcf11-3304-4644-9cd0-938e29c9c34f",
      "metadata": {
        "tags": [],
        "id": "a1bbcf11-3304-4644-9cd0-938e29c9c34f",
        "outputId": "80dd5354-65af-48ed-bfc3-463c2119cbbf"
      },
      "outputs": [
        {
          "name": "stdout",
          "output_type": "stream",
          "text": [
            "    support              itemsets\n",
            "8      0.65               (BREAD)\n",
            "0      0.40              (COFFEE)\n",
            "2      0.35                 (TEA)\n",
            "7      0.35             (BISCUIT)\n",
            "1      0.30               (SUGER)\n",
            "4      0.30          (CORNFLAKES)\n",
            "5      0.25               (MAGGI)\n",
            "6      0.25                (MILK)\n",
            "3      0.20           (BOURNVITA)\n",
            "9      0.20       (COFFEE, SUGER)\n",
            "10     0.20  (COFFEE, CORNFLAKES)\n",
            "11     0.20        (SUGER, BREAD)\n",
            "12     0.20          (TEA, MAGGI)\n",
            "13     0.20          (TEA, BREAD)\n",
            "14     0.20         (MILK, BREAD)\n",
            "15     0.20      (BISCUIT, BREAD)\n"
          ]
        },
        {
          "name": "stderr",
          "output_type": "stream",
          "text": [
            "/usr/local/lib/python3.9/dist-packages/mlxtend/frequent_patterns/fpcommon.py:111: DeprecationWarning: DataFrames with non-bool types result in worse computationalperformance and their support might be discontinued in the future.Please use a DataFrame with bool type\n",
            "  warnings.warn(\n"
          ]
        }
      ],
      "source": [
        "# filtering items support > 0.2\n",
        "freq_items = apriori(ohe_df, min_support=0.2, use_colnames=True)\n",
        "print(freq_items.sort_values('support', ascending = False))"
      ]
    },
    {
      "cell_type": "code",
      "execution_count": null,
      "id": "c1fc8e61-9191-47a0-9715-6e2507101a3c",
      "metadata": {
        "tags": [],
        "id": "c1fc8e61-9191-47a0-9715-6e2507101a3c",
        "outputId": "5f2a1887-d3f2-4dfc-a79c-976bc61db8cf"
      },
      "outputs": [
        {
          "name": "stdout",
          "output_type": "stream",
          "text": [
            "    antecedents consequents  antecedent support  consequent support  support  \\\n",
            "3       (MAGGI)       (TEA)                0.25                0.35      0.2   \n",
            "4        (MILK)     (BREAD)                0.25                0.65      0.2   \n",
            "0       (SUGER)    (COFFEE)                0.30                0.40      0.2   \n",
            "1  (CORNFLAKES)    (COFFEE)                0.30                0.40      0.2   \n",
            "2       (SUGER)     (BREAD)                0.30                0.65      0.2   \n",
            "\n",
            "   confidence      lift  leverage  conviction  \n",
            "3    0.800000  2.285714    0.1125        3.25  \n",
            "4    0.800000  1.230769    0.0375        1.75  \n",
            "0    0.666667  1.666667    0.0800        1.80  \n",
            "1    0.666667  1.666667    0.0800        1.80  \n",
            "2    0.666667  1.025641    0.0050        1.05  \n"
          ]
        }
      ],
      "source": [
        "# filtering items confidence > 0.6\n",
        "rules = association_rules(freq_items, metric='confidence', min_threshold=0.6)\n",
        "print(rules.sort_values('confidence', ascending = False))"
      ]
    },
    {
      "cell_type": "code",
      "execution_count": null,
      "id": "87e48acb-91ef-4a55-8c46-64325a57cc97",
      "metadata": {
        "tags": [],
        "id": "87e48acb-91ef-4a55-8c46-64325a57cc97",
        "outputId": "d7dffae2-6951-4179-9515-5307683af6ef"
      },
      "outputs": [
        {
          "name": "stdout",
          "output_type": "stream",
          "text": [
            "5\n",
            "7\n",
            "5\n",
            "13\n"
          ]
        }
      ],
      "source": [
        "print(ohe_df['MAGGI'].sum())\n",
        "print(ohe_df['TEA'].sum())\n",
        "print(ohe_df['MILK'].sum())\n",
        "print(ohe_df['BREAD'].sum())"
      ]
    }
  ],
  "metadata": {
    "kernelspec": {
      "display_name": "Python 3 (ipykernel)",
      "language": "python",
      "name": "python3"
    },
    "language_info": {
      "codemirror_mode": {
        "name": "ipython",
        "version": 3
      },
      "file_extension": ".py",
      "mimetype": "text/x-python",
      "name": "python",
      "nbconvert_exporter": "python",
      "pygments_lexer": "ipython3",
      "version": "3.9.16"
    },
    "colab": {
      "provenance": [],
      "include_colab_link": true
    }
  },
  "nbformat": 4,
  "nbformat_minor": 5
}